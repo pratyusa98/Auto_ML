{
 "cells": [
  {
   "cell_type": "code",
   "execution_count": 30,
   "metadata": {},
   "outputs": [],
   "source": [
    "import featuretools as ft\n",
    "import numpy as np\n",
    "import pandas as pd\n",
    "\n",
    "train = pd.read_csv(\"train_v9rqX0R.csv\")\n",
    "test = pd.read_csv(\"test_AbJTz2l.csv\")"
   ]
  },
  {
   "cell_type": "code",
   "execution_count": 31,
   "metadata": {},
   "outputs": [],
   "source": [
    "# saving identifiers\n",
    "test_Item_Identifier = test['Item_Identifier']\n",
    "test_Outlet_Identifier = test['Outlet_Identifier']\n",
    "sales = train['Item_Outlet_Sales']\n",
    "train.drop(['Item_Outlet_Sales'], axis=1, inplace=True)"
   ]
  },
  {
   "cell_type": "code",
   "execution_count": 32,
   "metadata": {},
   "outputs": [],
   "source": [
    "combi = train.append(test, ignore_index=True)"
   ]
  },
  {
   "cell_type": "code",
   "execution_count": 33,
   "metadata": {},
   "outputs": [
    {
     "data": {
      "text/plain": [
       "Item_Identifier                 0\n",
       "Item_Weight                  2439\n",
       "Item_Fat_Content                0\n",
       "Item_Visibility                 0\n",
       "Item_Type                       0\n",
       "Item_MRP                        0\n",
       "Outlet_Identifier               0\n",
       "Outlet_Establishment_Year       0\n",
       "Outlet_Size                  4016\n",
       "Outlet_Location_Type            0\n",
       "Outlet_Type                     0\n",
       "dtype: int64"
      ]
     },
     "execution_count": 33,
     "metadata": {},
     "output_type": "execute_result"
    }
   ],
   "source": [
    "combi.isnull().sum()"
   ]
  },
  {
   "cell_type": "code",
   "execution_count": 34,
   "metadata": {},
   "outputs": [],
   "source": [
    "# imputing missing data\n",
    "combi['Item_Weight'].fillna(combi['Item_Weight'].median(), inplace = True)\n",
    "combi['Outlet_Size'].fillna(combi['Outlet_Size'].mode()[0],inplace = True)"
   ]
  },
  {
   "cell_type": "code",
   "execution_count": 35,
   "metadata": {},
   "outputs": [
    {
     "data": {
      "text/plain": [
       "Item_Identifier              0\n",
       "Item_Weight                  0\n",
       "Item_Fat_Content             0\n",
       "Item_Visibility              0\n",
       "Item_Type                    0\n",
       "Item_MRP                     0\n",
       "Outlet_Identifier            0\n",
       "Outlet_Establishment_Year    0\n",
       "Outlet_Size                  0\n",
       "Outlet_Location_Type         0\n",
       "Outlet_Type                  0\n",
       "dtype: int64"
      ]
     },
     "execution_count": 35,
     "metadata": {},
     "output_type": "execute_result"
    }
   ],
   "source": [
    "combi.isnull().sum()"
   ]
  },
  {
   "cell_type": "code",
   "execution_count": 36,
   "metadata": {},
   "outputs": [
    {
     "data": {
      "text/html": [
       "<div>\n",
       "<style scoped>\n",
       "    .dataframe tbody tr th:only-of-type {\n",
       "        vertical-align: middle;\n",
       "    }\n",
       "\n",
       "    .dataframe tbody tr th {\n",
       "        vertical-align: top;\n",
       "    }\n",
       "\n",
       "    .dataframe thead th {\n",
       "        text-align: right;\n",
       "    }\n",
       "</style>\n",
       "<table border=\"1\" class=\"dataframe\">\n",
       "  <thead>\n",
       "    <tr style=\"text-align: right;\">\n",
       "      <th></th>\n",
       "      <th>Item_Identifier</th>\n",
       "      <th>Item_Fat_Content</th>\n",
       "      <th>Item_Type</th>\n",
       "      <th>Outlet_Identifier</th>\n",
       "      <th>Outlet_Size</th>\n",
       "      <th>Outlet_Location_Type</th>\n",
       "      <th>Outlet_Type</th>\n",
       "    </tr>\n",
       "  </thead>\n",
       "  <tbody>\n",
       "    <tr>\n",
       "      <th>0</th>\n",
       "      <td>FDA15</td>\n",
       "      <td>Low Fat</td>\n",
       "      <td>Dairy</td>\n",
       "      <td>OUT049</td>\n",
       "      <td>Medium</td>\n",
       "      <td>Tier 1</td>\n",
       "      <td>Supermarket Type1</td>\n",
       "    </tr>\n",
       "    <tr>\n",
       "      <th>1</th>\n",
       "      <td>DRC01</td>\n",
       "      <td>Regular</td>\n",
       "      <td>Soft Drinks</td>\n",
       "      <td>OUT018</td>\n",
       "      <td>Medium</td>\n",
       "      <td>Tier 3</td>\n",
       "      <td>Supermarket Type2</td>\n",
       "    </tr>\n",
       "    <tr>\n",
       "      <th>2</th>\n",
       "      <td>FDN15</td>\n",
       "      <td>Low Fat</td>\n",
       "      <td>Meat</td>\n",
       "      <td>OUT049</td>\n",
       "      <td>Medium</td>\n",
       "      <td>Tier 1</td>\n",
       "      <td>Supermarket Type1</td>\n",
       "    </tr>\n",
       "    <tr>\n",
       "      <th>3</th>\n",
       "      <td>FDX07</td>\n",
       "      <td>Regular</td>\n",
       "      <td>Fruits and Vegetables</td>\n",
       "      <td>OUT010</td>\n",
       "      <td>Medium</td>\n",
       "      <td>Tier 3</td>\n",
       "      <td>Grocery Store</td>\n",
       "    </tr>\n",
       "    <tr>\n",
       "      <th>4</th>\n",
       "      <td>NCD19</td>\n",
       "      <td>Low Fat</td>\n",
       "      <td>Household</td>\n",
       "      <td>OUT013</td>\n",
       "      <td>High</td>\n",
       "      <td>Tier 3</td>\n",
       "      <td>Supermarket Type1</td>\n",
       "    </tr>\n",
       "  </tbody>\n",
       "</table>\n",
       "</div>"
      ],
      "text/plain": [
       "  Item_Identifier Item_Fat_Content              Item_Type Outlet_Identifier  \\\n",
       "0           FDA15          Low Fat                  Dairy            OUT049   \n",
       "1           DRC01          Regular            Soft Drinks            OUT018   \n",
       "2           FDN15          Low Fat                   Meat            OUT049   \n",
       "3           FDX07          Regular  Fruits and Vegetables            OUT010   \n",
       "4           NCD19          Low Fat              Household            OUT013   \n",
       "\n",
       "  Outlet_Size Outlet_Location_Type        Outlet_Type  \n",
       "0      Medium               Tier 1  Supermarket Type1  \n",
       "1      Medium               Tier 3  Supermarket Type2  \n",
       "2      Medium               Tier 1  Supermarket Type1  \n",
       "3      Medium               Tier 3      Grocery Store  \n",
       "4        High               Tier 3  Supermarket Type1  "
      ]
     },
     "execution_count": 36,
     "metadata": {},
     "output_type": "execute_result"
    }
   ],
   "source": [
    "#all categorical feature\n",
    "cat_features = combi.select_dtypes(include=[np.object])\n",
    "cat_features.head()"
   ]
  },
  {
   "cell_type": "code",
   "execution_count": 37,
   "metadata": {},
   "outputs": [],
   "source": [
    "# dictionary to replace the categories\n",
    "fat_content_dict = {'Low Fat':0, 'Regular':1, 'LF':0, 'reg':1, 'low fat':0}\n",
    "\n",
    "combi['Item_Fat_Content'] = combi['Item_Fat_Content'].replace(fat_content_dict, regex=True)"
   ]
  },
  {
   "cell_type": "code",
   "execution_count": 38,
   "metadata": {},
   "outputs": [
    {
     "data": {
      "text/html": [
       "<div>\n",
       "<style scoped>\n",
       "    .dataframe tbody tr th:only-of-type {\n",
       "        vertical-align: middle;\n",
       "    }\n",
       "\n",
       "    .dataframe tbody tr th {\n",
       "        vertical-align: top;\n",
       "    }\n",
       "\n",
       "    .dataframe thead th {\n",
       "        text-align: right;\n",
       "    }\n",
       "</style>\n",
       "<table border=\"1\" class=\"dataframe\">\n",
       "  <thead>\n",
       "    <tr style=\"text-align: right;\">\n",
       "      <th></th>\n",
       "      <th>Item_Identifier</th>\n",
       "      <th>Item_Type</th>\n",
       "      <th>Outlet_Identifier</th>\n",
       "      <th>Outlet_Size</th>\n",
       "      <th>Outlet_Location_Type</th>\n",
       "      <th>Outlet_Type</th>\n",
       "    </tr>\n",
       "  </thead>\n",
       "  <tbody>\n",
       "    <tr>\n",
       "      <th>0</th>\n",
       "      <td>FDA15</td>\n",
       "      <td>Dairy</td>\n",
       "      <td>OUT049</td>\n",
       "      <td>Medium</td>\n",
       "      <td>Tier 1</td>\n",
       "      <td>Supermarket Type1</td>\n",
       "    </tr>\n",
       "    <tr>\n",
       "      <th>1</th>\n",
       "      <td>DRC01</td>\n",
       "      <td>Soft Drinks</td>\n",
       "      <td>OUT018</td>\n",
       "      <td>Medium</td>\n",
       "      <td>Tier 3</td>\n",
       "      <td>Supermarket Type2</td>\n",
       "    </tr>\n",
       "    <tr>\n",
       "      <th>2</th>\n",
       "      <td>FDN15</td>\n",
       "      <td>Meat</td>\n",
       "      <td>OUT049</td>\n",
       "      <td>Medium</td>\n",
       "      <td>Tier 1</td>\n",
       "      <td>Supermarket Type1</td>\n",
       "    </tr>\n",
       "    <tr>\n",
       "      <th>3</th>\n",
       "      <td>FDX07</td>\n",
       "      <td>Fruits and Vegetables</td>\n",
       "      <td>OUT010</td>\n",
       "      <td>Medium</td>\n",
       "      <td>Tier 3</td>\n",
       "      <td>Grocery Store</td>\n",
       "    </tr>\n",
       "    <tr>\n",
       "      <th>4</th>\n",
       "      <td>NCD19</td>\n",
       "      <td>Household</td>\n",
       "      <td>OUT013</td>\n",
       "      <td>High</td>\n",
       "      <td>Tier 3</td>\n",
       "      <td>Supermarket Type1</td>\n",
       "    </tr>\n",
       "  </tbody>\n",
       "</table>\n",
       "</div>"
      ],
      "text/plain": [
       "  Item_Identifier              Item_Type Outlet_Identifier Outlet_Size  \\\n",
       "0           FDA15                  Dairy            OUT049      Medium   \n",
       "1           DRC01            Soft Drinks            OUT018      Medium   \n",
       "2           FDN15                   Meat            OUT049      Medium   \n",
       "3           FDX07  Fruits and Vegetables            OUT010      Medium   \n",
       "4           NCD19              Household            OUT013        High   \n",
       "\n",
       "  Outlet_Location_Type        Outlet_Type  \n",
       "0               Tier 1  Supermarket Type1  \n",
       "1               Tier 3  Supermarket Type2  \n",
       "2               Tier 1  Supermarket Type1  \n",
       "3               Tier 3      Grocery Store  \n",
       "4               Tier 3  Supermarket Type1  "
      ]
     },
     "execution_count": 38,
     "metadata": {},
     "output_type": "execute_result"
    }
   ],
   "source": [
    "#all categorical feature\n",
    "cat_features = combi.select_dtypes(include=[np.object])\n",
    "cat_features.head()"
   ]
  },
  {
   "cell_type": "code",
   "execution_count": 39,
   "metadata": {},
   "outputs": [
    {
     "data": {
      "text/plain": [
       "Medium    8671\n",
       "Small     3980\n",
       "High      1553\n",
       "Name: Outlet_Size, dtype: int64"
      ]
     },
     "execution_count": 39,
     "metadata": {},
     "output_type": "execute_result"
    }
   ],
   "source": [
    "combi['Outlet_Size'].value_counts()"
   ]
  },
  {
   "cell_type": "code",
   "execution_count": 42,
   "metadata": {},
   "outputs": [],
   "source": [
    "# lets encode the education in their degree of importance \n",
    "# combi['Outlet_Size'] = combi['Outlet_Size'].replace((\"Medium\", \"Small\", \"High\"),\n",
    "#                                                 (3, 2, 1))\n",
    "# combi['Outlet_Size'] = combi['Outlet_Size'].replace((\"Medium\", \"Small\", \"High\"),\n",
    "#                                                 (3, 2, 1))"
   ]
  },
  {
   "cell_type": "code",
   "execution_count": 41,
   "metadata": {},
   "outputs": [
    {
     "data": {
      "text/plain": [
       "3    8671\n",
       "2    3980\n",
       "1    1553\n",
       "Name: Outlet_Size, dtype: int64"
      ]
     },
     "execution_count": 41,
     "metadata": {},
     "output_type": "execute_result"
    }
   ],
   "source": [
    "combi['Outlet_Size'].value_counts()"
   ]
  },
  {
   "cell_type": "code",
   "execution_count": 43,
   "metadata": {},
   "outputs": [
    {
     "data": {
      "text/html": [
       "<div>\n",
       "<style scoped>\n",
       "    .dataframe tbody tr th:only-of-type {\n",
       "        vertical-align: middle;\n",
       "    }\n",
       "\n",
       "    .dataframe tbody tr th {\n",
       "        vertical-align: top;\n",
       "    }\n",
       "\n",
       "    .dataframe thead th {\n",
       "        text-align: right;\n",
       "    }\n",
       "</style>\n",
       "<table border=\"1\" class=\"dataframe\">\n",
       "  <thead>\n",
       "    <tr style=\"text-align: right;\">\n",
       "      <th></th>\n",
       "      <th>Item_Identifier</th>\n",
       "      <th>Item_Type</th>\n",
       "      <th>Outlet_Identifier</th>\n",
       "      <th>Outlet_Location_Type</th>\n",
       "      <th>Outlet_Type</th>\n",
       "    </tr>\n",
       "  </thead>\n",
       "  <tbody>\n",
       "    <tr>\n",
       "      <th>0</th>\n",
       "      <td>FDA15</td>\n",
       "      <td>Dairy</td>\n",
       "      <td>OUT049</td>\n",
       "      <td>Tier 1</td>\n",
       "      <td>Supermarket Type1</td>\n",
       "    </tr>\n",
       "    <tr>\n",
       "      <th>1</th>\n",
       "      <td>DRC01</td>\n",
       "      <td>Soft Drinks</td>\n",
       "      <td>OUT018</td>\n",
       "      <td>Tier 3</td>\n",
       "      <td>Supermarket Type2</td>\n",
       "    </tr>\n",
       "    <tr>\n",
       "      <th>2</th>\n",
       "      <td>FDN15</td>\n",
       "      <td>Meat</td>\n",
       "      <td>OUT049</td>\n",
       "      <td>Tier 1</td>\n",
       "      <td>Supermarket Type1</td>\n",
       "    </tr>\n",
       "    <tr>\n",
       "      <th>3</th>\n",
       "      <td>FDX07</td>\n",
       "      <td>Fruits and Vegetables</td>\n",
       "      <td>OUT010</td>\n",
       "      <td>Tier 3</td>\n",
       "      <td>Grocery Store</td>\n",
       "    </tr>\n",
       "    <tr>\n",
       "      <th>4</th>\n",
       "      <td>NCD19</td>\n",
       "      <td>Household</td>\n",
       "      <td>OUT013</td>\n",
       "      <td>Tier 3</td>\n",
       "      <td>Supermarket Type1</td>\n",
       "    </tr>\n",
       "  </tbody>\n",
       "</table>\n",
       "</div>"
      ],
      "text/plain": [
       "  Item_Identifier              Item_Type Outlet_Identifier  \\\n",
       "0           FDA15                  Dairy            OUT049   \n",
       "1           DRC01            Soft Drinks            OUT018   \n",
       "2           FDN15                   Meat            OUT049   \n",
       "3           FDX07  Fruits and Vegetables            OUT010   \n",
       "4           NCD19              Household            OUT013   \n",
       "\n",
       "  Outlet_Location_Type        Outlet_Type  \n",
       "0               Tier 1  Supermarket Type1  \n",
       "1               Tier 3  Supermarket Type2  \n",
       "2               Tier 1  Supermarket Type1  \n",
       "3               Tier 3      Grocery Store  \n",
       "4               Tier 3  Supermarket Type1  "
      ]
     },
     "execution_count": 43,
     "metadata": {},
     "output_type": "execute_result"
    }
   ],
   "source": [
    "#all categorical feature\n",
    "cat_features = combi.select_dtypes(include=[np.object])\n",
    "cat_features.head()"
   ]
  },
  {
   "cell_type": "code",
   "execution_count": 45,
   "metadata": {},
   "outputs": [],
   "source": [
    "# lets encode the education in their degree of importance \n",
    "# combi['Outlet_Location_Type'] = combi['Outlet_Location_Type'].replace((\"Tier 3\", \"Tier 2\", \"Tier 1\"),\n",
    "#                                                 (3, 2, 1))\n",
    "# combi['Outlet_Location_Type'] = combi['Outlet_Location_Type'].replace((\"Tier 3\", \"Tier 2\", \"Tier 1\"),\n",
    "#                                                 (3, 2, 1))"
   ]
  },
  {
   "cell_type": "code",
   "execution_count": 47,
   "metadata": {},
   "outputs": [
    {
     "data": {
      "text/html": [
       "<div>\n",
       "<style scoped>\n",
       "    .dataframe tbody tr th:only-of-type {\n",
       "        vertical-align: middle;\n",
       "    }\n",
       "\n",
       "    .dataframe tbody tr th {\n",
       "        vertical-align: top;\n",
       "    }\n",
       "\n",
       "    .dataframe thead th {\n",
       "        text-align: right;\n",
       "    }\n",
       "</style>\n",
       "<table border=\"1\" class=\"dataframe\">\n",
       "  <thead>\n",
       "    <tr style=\"text-align: right;\">\n",
       "      <th></th>\n",
       "      <th>Item_Identifier</th>\n",
       "      <th>Item_Type</th>\n",
       "      <th>Outlet_Identifier</th>\n",
       "      <th>Outlet_Type</th>\n",
       "    </tr>\n",
       "  </thead>\n",
       "  <tbody>\n",
       "    <tr>\n",
       "      <th>0</th>\n",
       "      <td>FDA15</td>\n",
       "      <td>Dairy</td>\n",
       "      <td>OUT049</td>\n",
       "      <td>Supermarket Type1</td>\n",
       "    </tr>\n",
       "    <tr>\n",
       "      <th>1</th>\n",
       "      <td>DRC01</td>\n",
       "      <td>Soft Drinks</td>\n",
       "      <td>OUT018</td>\n",
       "      <td>Supermarket Type2</td>\n",
       "    </tr>\n",
       "    <tr>\n",
       "      <th>2</th>\n",
       "      <td>FDN15</td>\n",
       "      <td>Meat</td>\n",
       "      <td>OUT049</td>\n",
       "      <td>Supermarket Type1</td>\n",
       "    </tr>\n",
       "    <tr>\n",
       "      <th>3</th>\n",
       "      <td>FDX07</td>\n",
       "      <td>Fruits and Vegetables</td>\n",
       "      <td>OUT010</td>\n",
       "      <td>Grocery Store</td>\n",
       "    </tr>\n",
       "    <tr>\n",
       "      <th>4</th>\n",
       "      <td>NCD19</td>\n",
       "      <td>Household</td>\n",
       "      <td>OUT013</td>\n",
       "      <td>Supermarket Type1</td>\n",
       "    </tr>\n",
       "    <tr>\n",
       "      <th>...</th>\n",
       "      <td>...</td>\n",
       "      <td>...</td>\n",
       "      <td>...</td>\n",
       "      <td>...</td>\n",
       "    </tr>\n",
       "    <tr>\n",
       "      <th>14199</th>\n",
       "      <td>FDB58</td>\n",
       "      <td>Snack Foods</td>\n",
       "      <td>OUT046</td>\n",
       "      <td>Supermarket Type1</td>\n",
       "    </tr>\n",
       "    <tr>\n",
       "      <th>14200</th>\n",
       "      <td>FDD47</td>\n",
       "      <td>Starchy Foods</td>\n",
       "      <td>OUT018</td>\n",
       "      <td>Supermarket Type2</td>\n",
       "    </tr>\n",
       "    <tr>\n",
       "      <th>14201</th>\n",
       "      <td>NCO17</td>\n",
       "      <td>Health and Hygiene</td>\n",
       "      <td>OUT045</td>\n",
       "      <td>Supermarket Type1</td>\n",
       "    </tr>\n",
       "    <tr>\n",
       "      <th>14202</th>\n",
       "      <td>FDJ26</td>\n",
       "      <td>Canned</td>\n",
       "      <td>OUT017</td>\n",
       "      <td>Supermarket Type1</td>\n",
       "    </tr>\n",
       "    <tr>\n",
       "      <th>14203</th>\n",
       "      <td>FDU37</td>\n",
       "      <td>Canned</td>\n",
       "      <td>OUT045</td>\n",
       "      <td>Supermarket Type1</td>\n",
       "    </tr>\n",
       "  </tbody>\n",
       "</table>\n",
       "<p>14204 rows × 4 columns</p>\n",
       "</div>"
      ],
      "text/plain": [
       "      Item_Identifier              Item_Type Outlet_Identifier  \\\n",
       "0               FDA15                  Dairy            OUT049   \n",
       "1               DRC01            Soft Drinks            OUT018   \n",
       "2               FDN15                   Meat            OUT049   \n",
       "3               FDX07  Fruits and Vegetables            OUT010   \n",
       "4               NCD19              Household            OUT013   \n",
       "...               ...                    ...               ...   \n",
       "14199           FDB58            Snack Foods            OUT046   \n",
       "14200           FDD47          Starchy Foods            OUT018   \n",
       "14201           NCO17     Health and Hygiene            OUT045   \n",
       "14202           FDJ26                 Canned            OUT017   \n",
       "14203           FDU37                 Canned            OUT045   \n",
       "\n",
       "             Outlet_Type  \n",
       "0      Supermarket Type1  \n",
       "1      Supermarket Type2  \n",
       "2      Supermarket Type1  \n",
       "3          Grocery Store  \n",
       "4      Supermarket Type1  \n",
       "...                  ...  \n",
       "14199  Supermarket Type1  \n",
       "14200  Supermarket Type2  \n",
       "14201  Supermarket Type1  \n",
       "14202  Supermarket Type1  \n",
       "14203  Supermarket Type1  \n",
       "\n",
       "[14204 rows x 4 columns]"
      ]
     },
     "execution_count": 47,
     "metadata": {},
     "output_type": "execute_result"
    }
   ],
   "source": [
    "cat_features = combi.select_dtypes(include=[np.object])\n",
    "cat_features"
   ]
  },
  {
   "cell_type": "code",
   "execution_count": 48,
   "metadata": {},
   "outputs": [
    {
     "data": {
      "text/plain": [
       "Item_Identifier                     object\n",
       "Item_Weight                        float64\n",
       "Item_Fat_Content                     int64\n",
       "Item_Visibility                    float64\n",
       "Item_MRP                           float64\n",
       "Outlet_Identifier                   object\n",
       "Outlet_Establishment_Year            int64\n",
       "Outlet_Size                          int64\n",
       "Outlet_Location_Type                 int64\n",
       "Item_Type_Breads                     uint8\n",
       "Item_Type_Breakfast                  uint8\n",
       "Item_Type_Canned                     uint8\n",
       "Item_Type_Dairy                      uint8\n",
       "Item_Type_Frozen Foods               uint8\n",
       "Item_Type_Fruits and Vegetables      uint8\n",
       "Item_Type_Hard Drinks                uint8\n",
       "Item_Type_Health and Hygiene         uint8\n",
       "Item_Type_Household                  uint8\n",
       "Item_Type_Meat                       uint8\n",
       "Item_Type_Others                     uint8\n",
       "Item_Type_Seafood                    uint8\n",
       "Item_Type_Snack Foods                uint8\n",
       "Item_Type_Soft Drinks                uint8\n",
       "Item_Type_Starchy Foods              uint8\n",
       "Outlet_Type_Supermarket Type1        uint8\n",
       "Outlet_Type_Supermarket Type2        uint8\n",
       "Outlet_Type_Supermarket Type3        uint8\n",
       "dtype: object"
      ]
     },
     "execution_count": 48,
     "metadata": {},
     "output_type": "execute_result"
    }
   ],
   "source": [
    "combi = pd.get_dummies(combi, columns =['Item_Type','Outlet_Type'],drop_first=True)\n",
    "combi.dtypes"
   ]
  },
  {
   "cell_type": "code",
   "execution_count": 49,
   "metadata": {},
   "outputs": [],
   "source": [
    "combi['id'] = combi['Item_Identifier'] + combi['Outlet_Identifier']\n",
    "combi.drop(['Item_Identifier'], axis=1, inplace=True)"
   ]
  },
  {
   "cell_type": "code",
   "execution_count": 50,
   "metadata": {},
   "outputs": [
    {
     "data": {
      "text/plain": [
       "Entityset: sales\n",
       "  Entities:\n",
       "    bigmart [Rows: 14204, Columns: 27]\n",
       "  Relationships:\n",
       "    No relationships"
      ]
     },
     "execution_count": 50,
     "metadata": {},
     "output_type": "execute_result"
    }
   ],
   "source": [
    "# creating and entity set 'es'\n",
    "es = ft.EntitySet(id = 'sales')\n",
    "\n",
    "# adding a dataframe \n",
    "es.entity_from_dataframe(entity_id = 'bigmart', dataframe = combi, index = 'id')"
   ]
  },
  {
   "cell_type": "code",
   "execution_count": 52,
   "metadata": {},
   "outputs": [
    {
     "data": {
      "text/plain": [
       "Entityset: sales\n",
       "  Entities:\n",
       "    bigmart [Rows: 14204, Columns: 24]\n",
       "    outlet [Rows: 10, Columns: 4]\n",
       "  Relationships:\n",
       "    bigmart.Outlet_Identifier -> outlet.Outlet_Identifier"
      ]
     },
     "execution_count": 52,
     "metadata": {},
     "output_type": "execute_result"
    }
   ],
   "source": [
    "es.normalize_entity(base_entity_id='bigmart', new_entity_id='outlet', index = 'Outlet_Identifier', \n",
    "additional_variables = ['Outlet_Establishment_Year', 'Outlet_Size', 'Outlet_Location_Type'])"
   ]
  },
  {
   "cell_type": "code",
   "execution_count": 53,
   "metadata": {},
   "outputs": [
    {
     "name": "stdout",
     "output_type": "stream",
     "text": [
      "Built 159 features\n",
      "EntitySet scattered to 3 workers in 5 seconds                                                                          \n",
      "Elapsed: 00:02 | Progress: 100%|███████████████████████████████████████████████████████████████████████████████████████\n"
     ]
    }
   ],
   "source": [
    "feature_matrix, feature_names = ft.dfs(entityset=es, \n",
    "target_entity = 'bigmart', \n",
    "max_depth = 2, \n",
    "verbose = 1, \n",
    "n_jobs = 3)"
   ]
  },
  {
   "cell_type": "code",
   "execution_count": 54,
   "metadata": {},
   "outputs": [
    {
     "data": {
      "text/plain": [
       "Index(['Item_Weight', 'Item_Fat_Content', 'Item_Visibility', 'Item_MRP',\n",
       "       'Outlet_Identifier', 'Item_Type_Breads', 'Item_Type_Breakfast',\n",
       "       'Item_Type_Canned', 'Item_Type_Dairy', 'Item_Type_Frozen Foods',\n",
       "       ...\n",
       "       'outlet.MEAN(bigmart.Item_Type_Seafood)',\n",
       "       'outlet.MEAN(bigmart.Item_Type_Snack Foods)',\n",
       "       'outlet.MEAN(bigmart.Item_Type_Soft Drinks)',\n",
       "       'outlet.MEAN(bigmart.Item_Type_Starchy Foods)',\n",
       "       'outlet.MEAN(bigmart.Item_Visibility)',\n",
       "       'outlet.MEAN(bigmart.Item_Weight)',\n",
       "       'outlet.MEAN(bigmart.Outlet_Type_Supermarket Type1)',\n",
       "       'outlet.MEAN(bigmart.Outlet_Type_Supermarket Type2)',\n",
       "       'outlet.MEAN(bigmart.Outlet_Type_Supermarket Type3)',\n",
       "       'outlet.COUNT(bigmart)'],\n",
       "      dtype='object', length=159)"
      ]
     },
     "execution_count": 54,
     "metadata": {},
     "output_type": "execute_result"
    }
   ],
   "source": [
    "feature_matrix.columns"
   ]
  },
  {
   "cell_type": "code",
   "execution_count": 55,
   "metadata": {},
   "outputs": [],
   "source": [
    "feature_matrix = feature_matrix.reindex(index=combi['id'])\n",
    "feature_matrix = feature_matrix.reset_index()"
   ]
  },
  {
   "cell_type": "code",
   "execution_count": 64,
   "metadata": {},
   "outputs": [],
   "source": [
    "from catboost import CatBoostRegressor\n",
    "from sklearn.metrics import  r2_score,mean_squared_error,mean_absolute_error\n",
    "from math import sqrt"
   ]
  },
  {
   "cell_type": "code",
   "execution_count": 57,
   "metadata": {},
   "outputs": [],
   "source": [
    "categorical_features = np.where(feature_matrix.dtypes == 'object')[0]\n",
    "\n",
    "for i in categorical_features:\n",
    "    feature_matrix.iloc[:,i] = feature_matrix.iloc[:,i].astype('str')"
   ]
  },
  {
   "cell_type": "code",
   "execution_count": 58,
   "metadata": {},
   "outputs": [],
   "source": [
    "feature_matrix.drop(['id'], axis=1, inplace=True)\n",
    "train = feature_matrix[:8523]\n",
    "test = feature_matrix[8523:]"
   ]
  },
  {
   "cell_type": "code",
   "execution_count": 59,
   "metadata": {},
   "outputs": [],
   "source": [
    "# removing uneccesary variables\n",
    "train.drop(['Outlet_Identifier'], axis=1, inplace=True)\n",
    "test.drop(['Outlet_Identifier'], axis=1, inplace=True)"
   ]
  },
  {
   "cell_type": "code",
   "execution_count": 60,
   "metadata": {},
   "outputs": [],
   "source": [
    "# identifying categorical features\n",
    "categorical_features = np.where(train.dtypes == 'object')[0]"
   ]
  },
  {
   "cell_type": "code",
   "execution_count": 61,
   "metadata": {},
   "outputs": [],
   "source": [
    "from sklearn.model_selection import train_test_split\n",
    "\n",
    "# splitting train data into training and validation set\n",
    "xtrain, xvalid, ytrain, yvalid = train_test_split(train, sales, test_size=0.25, random_state=11)"
   ]
  },
  {
   "cell_type": "code",
   "execution_count": 62,
   "metadata": {},
   "outputs": [
    {
     "name": "stderr",
     "output_type": "stream",
     "text": [
      "You should provide test set for use best model. use_best_model parameter has been switched to false value.\n"
     ]
    },
    {
     "name": "stdout",
     "output_type": "stream",
     "text": [
      "0:\tlearn: 1449.3008460\ttotal: 60.9ms\tremaining: 6.03s\n",
      "1:\tlearn: 1286.4134205\ttotal: 69.8ms\tremaining: 3.42s\n",
      "2:\tlearn: 1197.8807090\ttotal: 77.1ms\tremaining: 2.49s\n",
      "3:\tlearn: 1139.9418489\ttotal: 84.6ms\tremaining: 2.03s\n",
      "4:\tlearn: 1108.3088361\ttotal: 91.7ms\tremaining: 1.74s\n",
      "5:\tlearn: 1091.1918307\ttotal: 98.9ms\tremaining: 1.55s\n",
      "6:\tlearn: 1078.8113167\ttotal: 106ms\tremaining: 1.41s\n",
      "7:\tlearn: 1073.8897311\ttotal: 113ms\tremaining: 1.3s\n",
      "8:\tlearn: 1069.4948618\ttotal: 120ms\tremaining: 1.21s\n",
      "9:\tlearn: 1066.5075602\ttotal: 127ms\tremaining: 1.14s\n",
      "10:\tlearn: 1064.1421205\ttotal: 134ms\tremaining: 1.09s\n",
      "11:\tlearn: 1062.5608631\ttotal: 141ms\tremaining: 1.03s\n",
      "12:\tlearn: 1061.2918067\ttotal: 148ms\tremaining: 992ms\n",
      "13:\tlearn: 1059.5417063\ttotal: 155ms\tremaining: 953ms\n",
      "14:\tlearn: 1057.8279307\ttotal: 163ms\tremaining: 921ms\n",
      "15:\tlearn: 1054.3468146\ttotal: 170ms\tremaining: 891ms\n",
      "16:\tlearn: 1053.2918599\ttotal: 177ms\tremaining: 866ms\n",
      "17:\tlearn: 1051.5708152\ttotal: 187ms\tremaining: 852ms\n",
      "18:\tlearn: 1050.1158376\ttotal: 196ms\tremaining: 837ms\n",
      "19:\tlearn: 1048.4587755\ttotal: 204ms\tremaining: 818ms\n",
      "20:\tlearn: 1046.8097720\ttotal: 212ms\tremaining: 798ms\n",
      "21:\tlearn: 1045.1675976\ttotal: 219ms\tremaining: 777ms\n",
      "22:\tlearn: 1044.8213767\ttotal: 227ms\tremaining: 760ms\n",
      "23:\tlearn: 1043.6322014\ttotal: 238ms\tremaining: 755ms\n",
      "24:\tlearn: 1042.6340712\ttotal: 249ms\tremaining: 746ms\n",
      "25:\tlearn: 1040.6816160\ttotal: 256ms\tremaining: 729ms\n",
      "26:\tlearn: 1040.3339096\ttotal: 269ms\tremaining: 728ms\n",
      "27:\tlearn: 1039.8010141\ttotal: 277ms\tremaining: 714ms\n",
      "28:\tlearn: 1039.3072453\ttotal: 283ms\tremaining: 692ms\n",
      "29:\tlearn: 1037.5961281\ttotal: 290ms\tremaining: 678ms\n",
      "30:\tlearn: 1035.2198214\ttotal: 298ms\tremaining: 663ms\n",
      "31:\tlearn: 1032.3566586\ttotal: 305ms\tremaining: 649ms\n",
      "32:\tlearn: 1030.4007684\ttotal: 313ms\tremaining: 635ms\n",
      "33:\tlearn: 1027.7971847\ttotal: 320ms\tremaining: 622ms\n",
      "34:\tlearn: 1025.6245006\ttotal: 328ms\tremaining: 608ms\n",
      "35:\tlearn: 1023.5722066\ttotal: 334ms\tremaining: 594ms\n",
      "36:\tlearn: 1020.6613241\ttotal: 342ms\tremaining: 582ms\n",
      "37:\tlearn: 1017.9712732\ttotal: 349ms\tremaining: 569ms\n",
      "38:\tlearn: 1015.0625939\ttotal: 356ms\tremaining: 557ms\n",
      "39:\tlearn: 1013.6111147\ttotal: 363ms\tremaining: 544ms\n",
      "40:\tlearn: 1011.9017922\ttotal: 370ms\tremaining: 532ms\n",
      "41:\tlearn: 1009.6613242\ttotal: 376ms\tremaining: 520ms\n",
      "42:\tlearn: 1008.2431269\ttotal: 383ms\tremaining: 508ms\n",
      "43:\tlearn: 1006.8593250\ttotal: 390ms\tremaining: 496ms\n",
      "44:\tlearn: 1003.5026535\ttotal: 397ms\tremaining: 485ms\n",
      "45:\tlearn: 1001.8677299\ttotal: 404ms\tremaining: 475ms\n",
      "46:\tlearn: 999.4051563\ttotal: 411ms\tremaining: 463ms\n",
      "47:\tlearn: 997.3567010\ttotal: 419ms\tremaining: 454ms\n",
      "48:\tlearn: 995.4598523\ttotal: 427ms\tremaining: 445ms\n",
      "49:\tlearn: 994.0453945\ttotal: 438ms\tremaining: 438ms\n",
      "50:\tlearn: 991.8994573\ttotal: 446ms\tremaining: 429ms\n",
      "51:\tlearn: 989.0810680\ttotal: 453ms\tremaining: 419ms\n",
      "52:\tlearn: 986.9466081\ttotal: 461ms\tremaining: 409ms\n",
      "53:\tlearn: 985.4673370\ttotal: 468ms\tremaining: 399ms\n",
      "54:\tlearn: 983.8109108\ttotal: 474ms\tremaining: 388ms\n",
      "55:\tlearn: 982.6424036\ttotal: 481ms\tremaining: 378ms\n",
      "56:\tlearn: 981.1849092\ttotal: 488ms\tremaining: 368ms\n",
      "57:\tlearn: 979.6117729\ttotal: 494ms\tremaining: 358ms\n",
      "58:\tlearn: 977.9170365\ttotal: 502ms\tremaining: 349ms\n",
      "59:\tlearn: 975.6415029\ttotal: 509ms\tremaining: 339ms\n",
      "60:\tlearn: 973.1529716\ttotal: 516ms\tremaining: 330ms\n",
      "61:\tlearn: 971.5472841\ttotal: 524ms\tremaining: 321ms\n",
      "62:\tlearn: 969.5744812\ttotal: 534ms\tremaining: 313ms\n",
      "63:\tlearn: 966.6898374\ttotal: 542ms\tremaining: 305ms\n",
      "64:\tlearn: 965.0350770\ttotal: 550ms\tremaining: 296ms\n",
      "65:\tlearn: 963.4880544\ttotal: 557ms\tremaining: 287ms\n",
      "66:\tlearn: 962.1851674\ttotal: 563ms\tremaining: 277ms\n",
      "67:\tlearn: 961.2535288\ttotal: 571ms\tremaining: 269ms\n",
      "68:\tlearn: 959.9211342\ttotal: 579ms\tremaining: 260ms\n",
      "69:\tlearn: 958.0346870\ttotal: 587ms\tremaining: 251ms\n",
      "70:\tlearn: 956.5423534\ttotal: 596ms\tremaining: 243ms\n",
      "71:\tlearn: 954.6925462\ttotal: 605ms\tremaining: 235ms\n",
      "72:\tlearn: 951.9694221\ttotal: 616ms\tremaining: 228ms\n",
      "73:\tlearn: 950.2089930\ttotal: 624ms\tremaining: 219ms\n",
      "74:\tlearn: 948.4624495\ttotal: 631ms\tremaining: 210ms\n",
      "75:\tlearn: 947.5554019\ttotal: 638ms\tremaining: 201ms\n",
      "76:\tlearn: 946.6357477\ttotal: 644ms\tremaining: 192ms\n",
      "77:\tlearn: 944.6391825\ttotal: 652ms\tremaining: 184ms\n",
      "78:\tlearn: 942.4037120\ttotal: 659ms\tremaining: 175ms\n",
      "79:\tlearn: 940.2745587\ttotal: 667ms\tremaining: 167ms\n",
      "80:\tlearn: 939.4911650\ttotal: 673ms\tremaining: 158ms\n",
      "81:\tlearn: 936.9709633\ttotal: 681ms\tremaining: 150ms\n",
      "82:\tlearn: 935.8646244\ttotal: 688ms\tremaining: 141ms\n",
      "83:\tlearn: 934.2322912\ttotal: 695ms\tremaining: 132ms\n",
      "84:\tlearn: 932.5584560\ttotal: 702ms\tremaining: 124ms\n",
      "85:\tlearn: 931.5118765\ttotal: 709ms\tremaining: 115ms\n",
      "86:\tlearn: 929.8910256\ttotal: 716ms\tremaining: 107ms\n",
      "87:\tlearn: 927.8504193\ttotal: 723ms\tremaining: 98.6ms\n",
      "88:\tlearn: 926.2529638\ttotal: 730ms\tremaining: 90.2ms\n",
      "89:\tlearn: 924.4593075\ttotal: 737ms\tremaining: 81.8ms\n",
      "90:\tlearn: 922.3298353\ttotal: 744ms\tremaining: 73.6ms\n",
      "91:\tlearn: 921.3812052\ttotal: 751ms\tremaining: 65.3ms\n",
      "92:\tlearn: 920.0286886\ttotal: 758ms\tremaining: 57.1ms\n",
      "93:\tlearn: 918.5787781\ttotal: 765ms\tremaining: 48.8ms\n",
      "94:\tlearn: 916.5985241\ttotal: 778ms\tremaining: 41ms\n",
      "95:\tlearn: 914.8940426\ttotal: 787ms\tremaining: 32.8ms\n",
      "96:\tlearn: 913.8207164\ttotal: 797ms\tremaining: 24.6ms\n",
      "97:\tlearn: 912.4552149\ttotal: 804ms\tremaining: 16.4ms\n",
      "98:\tlearn: 911.2220518\ttotal: 812ms\tremaining: 8.2ms\n",
      "99:\tlearn: 910.3599172\ttotal: 819ms\tremaining: 0us\n"
     ]
    },
    {
     "data": {
      "text/plain": [
       "<catboost.core.CatBoostRegressor at 0x1d44882e708>"
      ]
     },
     "execution_count": 62,
     "metadata": {},
     "output_type": "execute_result"
    }
   ],
   "source": [
    "model_cat = CatBoostRegressor(iterations=100, learning_rate=0.3, depth=6, eval_metric='RMSE', random_seed=7)\n",
    "\n",
    "# training model\n",
    "model_cat.fit(xtrain, ytrain, cat_features=categorical_features, use_best_model=True)"
   ]
  },
  {
   "cell_type": "code",
   "execution_count": 71,
   "metadata": {},
   "outputs": [
    {
     "data": {
      "text/plain": [
       "0.5702543568875711"
      ]
     },
     "execution_count": 71,
     "metadata": {},
     "output_type": "execute_result"
    }
   ],
   "source": [
    "# validation score\n",
    "score = r2_score(yvalid,y_test_pred_xgb)\n",
    "score"
   ]
  },
  {
   "cell_type": "code",
   "execution_count": 67,
   "metadata": {},
   "outputs": [
    {
     "name": "stdout",
     "output_type": "stream",
     "text": [
      "RMSE : 1114.8498768645436\n"
     ]
    }
   ],
   "source": [
    "y_test_pred_xgb =model_cat.predict(xvalid)\n",
    "print(\"RMSE :\",np.sqrt(mean_squared_error(yvalid,y_test_pred_xgb)))"
   ]
  },
  {
   "cell_type": "code",
   "execution_count": 76,
   "metadata": {},
   "outputs": [],
   "source": [
    "y_pred = model_cat.predict(test)"
   ]
  },
  {
   "cell_type": "code",
   "execution_count": null,
   "metadata": {},
   "outputs": [],
   "source": []
  },
  {
   "cell_type": "code",
   "execution_count": null,
   "metadata": {},
   "outputs": [],
   "source": []
  },
  {
   "cell_type": "code",
   "execution_count": 72,
   "metadata": {},
   "outputs": [],
   "source": [
    "df = pd.read_csv('sample_submission_8RXa3c6.csv')"
   ]
  },
  {
   "cell_type": "code",
   "execution_count": 73,
   "metadata": {},
   "outputs": [
    {
     "data": {
      "text/html": [
       "<div>\n",
       "<style scoped>\n",
       "    .dataframe tbody tr th:only-of-type {\n",
       "        vertical-align: middle;\n",
       "    }\n",
       "\n",
       "    .dataframe tbody tr th {\n",
       "        vertical-align: top;\n",
       "    }\n",
       "\n",
       "    .dataframe thead th {\n",
       "        text-align: right;\n",
       "    }\n",
       "</style>\n",
       "<table border=\"1\" class=\"dataframe\">\n",
       "  <thead>\n",
       "    <tr style=\"text-align: right;\">\n",
       "      <th></th>\n",
       "      <th>Item_Identifier</th>\n",
       "      <th>Outlet_Identifier</th>\n",
       "      <th>Item_Outlet_Sales</th>\n",
       "    </tr>\n",
       "  </thead>\n",
       "  <tbody>\n",
       "    <tr>\n",
       "      <th>0</th>\n",
       "      <td>FDW58</td>\n",
       "      <td>OUT049</td>\n",
       "      <td>1000</td>\n",
       "    </tr>\n",
       "    <tr>\n",
       "      <th>1</th>\n",
       "      <td>FDW14</td>\n",
       "      <td>OUT017</td>\n",
       "      <td>1000</td>\n",
       "    </tr>\n",
       "    <tr>\n",
       "      <th>2</th>\n",
       "      <td>NCN55</td>\n",
       "      <td>OUT010</td>\n",
       "      <td>1000</td>\n",
       "    </tr>\n",
       "    <tr>\n",
       "      <th>3</th>\n",
       "      <td>FDQ58</td>\n",
       "      <td>OUT017</td>\n",
       "      <td>1000</td>\n",
       "    </tr>\n",
       "    <tr>\n",
       "      <th>4</th>\n",
       "      <td>FDY38</td>\n",
       "      <td>OUT027</td>\n",
       "      <td>1000</td>\n",
       "    </tr>\n",
       "    <tr>\n",
       "      <th>...</th>\n",
       "      <td>...</td>\n",
       "      <td>...</td>\n",
       "      <td>...</td>\n",
       "    </tr>\n",
       "    <tr>\n",
       "      <th>5676</th>\n",
       "      <td>FDB58</td>\n",
       "      <td>OUT046</td>\n",
       "      <td>1000</td>\n",
       "    </tr>\n",
       "    <tr>\n",
       "      <th>5677</th>\n",
       "      <td>FDD47</td>\n",
       "      <td>OUT018</td>\n",
       "      <td>1000</td>\n",
       "    </tr>\n",
       "    <tr>\n",
       "      <th>5678</th>\n",
       "      <td>NCO17</td>\n",
       "      <td>OUT045</td>\n",
       "      <td>1000</td>\n",
       "    </tr>\n",
       "    <tr>\n",
       "      <th>5679</th>\n",
       "      <td>FDJ26</td>\n",
       "      <td>OUT017</td>\n",
       "      <td>1000</td>\n",
       "    </tr>\n",
       "    <tr>\n",
       "      <th>5680</th>\n",
       "      <td>FDU37</td>\n",
       "      <td>OUT045</td>\n",
       "      <td>1000</td>\n",
       "    </tr>\n",
       "  </tbody>\n",
       "</table>\n",
       "<p>5681 rows × 3 columns</p>\n",
       "</div>"
      ],
      "text/plain": [
       "     Item_Identifier Outlet_Identifier  Item_Outlet_Sales\n",
       "0              FDW58            OUT049               1000\n",
       "1              FDW14            OUT017               1000\n",
       "2              NCN55            OUT010               1000\n",
       "3              FDQ58            OUT017               1000\n",
       "4              FDY38            OUT027               1000\n",
       "...              ...               ...                ...\n",
       "5676           FDB58            OUT046               1000\n",
       "5677           FDD47            OUT018               1000\n",
       "5678           NCO17            OUT045               1000\n",
       "5679           FDJ26            OUT017               1000\n",
       "5680           FDU37            OUT045               1000\n",
       "\n",
       "[5681 rows x 3 columns]"
      ]
     },
     "execution_count": 73,
     "metadata": {},
     "output_type": "execute_result"
    }
   ],
   "source": [
    "df"
   ]
  },
  {
   "cell_type": "code",
   "execution_count": 77,
   "metadata": {},
   "outputs": [],
   "source": [
    "df['Item_Outlet_Sales'] = y_pred"
   ]
  },
  {
   "cell_type": "code",
   "execution_count": 80,
   "metadata": {},
   "outputs": [],
   "source": [
    "df['Item_Outlet_Sales'] = abs(df['Item_Outlet_Sales'])"
   ]
  },
  {
   "cell_type": "code",
   "execution_count": 81,
   "metadata": {},
   "outputs": [
    {
     "data": {
      "text/html": [
       "<div>\n",
       "<style scoped>\n",
       "    .dataframe tbody tr th:only-of-type {\n",
       "        vertical-align: middle;\n",
       "    }\n",
       "\n",
       "    .dataframe tbody tr th {\n",
       "        vertical-align: top;\n",
       "    }\n",
       "\n",
       "    .dataframe thead th {\n",
       "        text-align: right;\n",
       "    }\n",
       "</style>\n",
       "<table border=\"1\" class=\"dataframe\">\n",
       "  <thead>\n",
       "    <tr style=\"text-align: right;\">\n",
       "      <th></th>\n",
       "      <th>Item_Identifier</th>\n",
       "      <th>Outlet_Identifier</th>\n",
       "      <th>Item_Outlet_Sales</th>\n",
       "    </tr>\n",
       "  </thead>\n",
       "  <tbody>\n",
       "    <tr>\n",
       "      <th>0</th>\n",
       "      <td>FDW58</td>\n",
       "      <td>OUT049</td>\n",
       "      <td>1565.582734</td>\n",
       "    </tr>\n",
       "    <tr>\n",
       "      <th>1</th>\n",
       "      <td>FDW14</td>\n",
       "      <td>OUT017</td>\n",
       "      <td>1128.310630</td>\n",
       "    </tr>\n",
       "    <tr>\n",
       "      <th>2</th>\n",
       "      <td>NCN55</td>\n",
       "      <td>OUT010</td>\n",
       "      <td>410.846160</td>\n",
       "    </tr>\n",
       "    <tr>\n",
       "      <th>3</th>\n",
       "      <td>FDQ58</td>\n",
       "      <td>OUT017</td>\n",
       "      <td>2433.565035</td>\n",
       "    </tr>\n",
       "    <tr>\n",
       "      <th>4</th>\n",
       "      <td>FDY38</td>\n",
       "      <td>OUT027</td>\n",
       "      <td>6059.398188</td>\n",
       "    </tr>\n",
       "    <tr>\n",
       "      <th>...</th>\n",
       "      <td>...</td>\n",
       "      <td>...</td>\n",
       "      <td>...</td>\n",
       "    </tr>\n",
       "    <tr>\n",
       "      <th>5676</th>\n",
       "      <td>FDB58</td>\n",
       "      <td>OUT046</td>\n",
       "      <td>2042.631481</td>\n",
       "    </tr>\n",
       "    <tr>\n",
       "      <th>5677</th>\n",
       "      <td>FDD47</td>\n",
       "      <td>OUT018</td>\n",
       "      <td>2452.760863</td>\n",
       "    </tr>\n",
       "    <tr>\n",
       "      <th>5678</th>\n",
       "      <td>NCO17</td>\n",
       "      <td>OUT045</td>\n",
       "      <td>1627.136507</td>\n",
       "    </tr>\n",
       "    <tr>\n",
       "      <th>5679</th>\n",
       "      <td>FDJ26</td>\n",
       "      <td>OUT017</td>\n",
       "      <td>4418.074688</td>\n",
       "    </tr>\n",
       "    <tr>\n",
       "      <th>5680</th>\n",
       "      <td>FDU37</td>\n",
       "      <td>OUT045</td>\n",
       "      <td>1218.341973</td>\n",
       "    </tr>\n",
       "  </tbody>\n",
       "</table>\n",
       "<p>5681 rows × 3 columns</p>\n",
       "</div>"
      ],
      "text/plain": [
       "     Item_Identifier Outlet_Identifier  Item_Outlet_Sales\n",
       "0              FDW58            OUT049        1565.582734\n",
       "1              FDW14            OUT017        1128.310630\n",
       "2              NCN55            OUT010         410.846160\n",
       "3              FDQ58            OUT017        2433.565035\n",
       "4              FDY38            OUT027        6059.398188\n",
       "...              ...               ...                ...\n",
       "5676           FDB58            OUT046        2042.631481\n",
       "5677           FDD47            OUT018        2452.760863\n",
       "5678           NCO17            OUT045        1627.136507\n",
       "5679           FDJ26            OUT017        4418.074688\n",
       "5680           FDU37            OUT045        1218.341973\n",
       "\n",
       "[5681 rows x 3 columns]"
      ]
     },
     "execution_count": 81,
     "metadata": {},
     "output_type": "execute_result"
    }
   ],
   "source": [
    "df"
   ]
  },
  {
   "cell_type": "code",
   "execution_count": 82,
   "metadata": {},
   "outputs": [],
   "source": [
    "df.to_csv('ff.csv',index=False)"
   ]
  },
  {
   "cell_type": "code",
   "execution_count": null,
   "metadata": {},
   "outputs": [],
   "source": []
  },
  {
   "cell_type": "code",
   "execution_count": null,
   "metadata": {},
   "outputs": [],
   "source": []
  }
 ],
 "metadata": {
  "kernelspec": {
   "display_name": "Python 3",
   "language": "python",
   "name": "python3"
  },
  "language_info": {
   "codemirror_mode": {
    "name": "ipython",
    "version": 3
   },
   "file_extension": ".py",
   "mimetype": "text/x-python",
   "name": "python",
   "nbconvert_exporter": "python",
   "pygments_lexer": "ipython3",
   "version": "3.7.6"
  }
 },
 "nbformat": 4,
 "nbformat_minor": 4
}
